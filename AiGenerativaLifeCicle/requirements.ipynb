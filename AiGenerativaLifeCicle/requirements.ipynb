{
 "cells": [
  {
   "cell_type": "code",
   "execution_count": 1,
   "metadata": {},
   "outputs": [
    {
     "ename": "SyntaxError",
     "evalue": "invalid syntax (1461582982.py, line 2)",
     "output_type": "error",
     "traceback": [
      "\u001b[1;36m  Cell \u001b[1;32mIn[1], line 2\u001b[1;36m\u001b[0m\n\u001b[1;33m    pip install --upgrade pip\u001b[0m\n\u001b[1;37m        ^\u001b[0m\n\u001b[1;31mSyntaxError\u001b[0m\u001b[1;31m:\u001b[0m invalid syntax\n"
     ]
    }
   ],
   "source": [
    "# ## 1 - Set up Kernel and Required Dependencies\n",
    "# pip install --upgrade pip\n",
    "# pip install --disable-pip-version-check\n",
    "#     torch==1.13.1\n",
    "#     torchdata==0.5.1 --quiet\n",
    "# pip install\n",
    "#     transformers==4.27.2\n",
    "#     datasets==2.11.0 --quiet"
   ]
  },
  {
   "cell_type": "code",
   "execution_count": 4,
   "metadata": {},
   "outputs": [
    {
     "name": "stdout",
     "output_type": "stream",
     "text": [
      "Requirement already satisfied: pip in c:\\users\\csilvapr\\onedrive - ntt data emeal\\escritorio\\mba\\vscode\\deeplearnig.ai\\venv\\lib\\site-packages (24.2)\n"
     ]
    },
    {
     "name": "stderr",
     "output_type": "stream",
     "text": [
      "  WARNING: Failed to remove contents in a temporary directory 'C:\\Users\\csilvapr\\OneDrive - NTT DATA EMEAL\\Escritorio\\MBA\\VSCode\\DeepLearnig.AI\\venv\\Lib\\site-packages\\~orch'.\n",
      "  You can safely remove it manually.\n"
     ]
    }
   ],
   "source": [
    "# 1 - Set up Kernel and Required Dependencies\n",
    "\n",
    "# Upgrade pip\n",
    "!pip install --upgrade pip\n",
    "\n",
    "# Install PyTorch and torchdata\n",
    "!pip install torch==2.4.1 torchdata==0.8.0 --quiet\n",
    "\n",
    "# Install transformers and datasets\n",
    "!pip install transformers==4.27.2 datasets==2.11.0 --quiet\n"
   ]
  }
 ],
 "metadata": {
  "kernelspec": {
   "display_name": "venv",
   "language": "python",
   "name": "python3"
  },
  "language_info": {
   "codemirror_mode": {
    "name": "ipython",
    "version": 3
   },
   "file_extension": ".py",
   "mimetype": "text/x-python",
   "name": "python",
   "nbconvert_exporter": "python",
   "pygments_lexer": "ipython3",
   "version": "3.11.9"
  }
 },
 "nbformat": 4,
 "nbformat_minor": 2
}
